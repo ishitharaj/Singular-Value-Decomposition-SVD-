{
 "cells": [
  {
   "cell_type": "code",
   "execution_count": 1,
   "metadata": {},
   "outputs": [],
   "source": [
    "import numpy as np\n",
    "import matplotlib.pyplot as plt\n",
    "import numpy.linalg as lg"
   ]
  },
  {
   "cell_type": "markdown",
   "metadata": {},
   "source": [
    "## Basic linear algebra operations in numpy "
   ]
  },
  {
   "cell_type": "code",
   "execution_count": 2,
   "metadata": {},
   "outputs": [
    {
     "name": "stdout",
     "output_type": "stream",
     "text": [
      "Matrix A:\n",
      " [[1 2]\n",
      " [3 4]]\n",
      "Matrix A inverse:\n",
      " [[-2.   1. ]\n",
      " [ 1.5 -0.5]]\n"
     ]
    }
   ],
   "source": [
    "A = np.array([[1,2],[3,4]])\n",
    "print('Matrix A:\\n',A)\n",
    "\n",
    "# A inverse \n",
    "A_inv = lg.inv(A)\n",
    "print('Matrix A inverse:\\n', A_inv)"
   ]
  },
  {
   "cell_type": "code",
   "execution_count": 3,
   "metadata": {},
   "outputs": [
    {
     "name": "stdout",
     "output_type": "stream",
     "text": [
      "[[1.00000000e+00 1.11022302e-16]\n",
      " [0.00000000e+00 1.00000000e+00]]\n",
      "\n",
      "identity matrix:\n",
      " [[1 0]\n",
      " [0 1]]\n"
     ]
    }
   ],
   "source": [
    "#let's get identity matrix by multiplying A with A_inv | Use dot method or '@' for matrix multipication \n",
    "print(A @ A_inv)\n",
    "\n",
    "# let's round the results and convert it into the integers\n",
    "print(\"\\nidentity matrix:\\n\",np.around(A @ A_inv).astype(int))"
   ]
  },
  {
   "cell_type": "code",
   "execution_count": 4,
   "metadata": {},
   "outputs": [
    {
     "name": "stdout",
     "output_type": "stream",
     "text": [
      "M:\n",
      " [[5 6 2 9 8]\n",
      " [3 4 8 4 4]\n",
      " [8 6 2 5 9]\n",
      " [5 7 0 2 1]\n",
      " [9 8 5 7 3]] \n",
      "M_inv:\n",
      " [[-0.13707441 -0.12032827  0.12598425 -0.14683376  0.1969613 ]\n",
      " [ 0.05245647  0.10025507 -0.07086614  0.27625596 -0.15304425]\n",
      " [-0.05833426  0.13164024 -0.00787402 -0.03659754  0.01585893]\n",
      " [ 0.15115892 -0.07685483 -0.12598425 -0.10668737  0.11289786]\n",
      " [ 0.01585893  0.05356549  0.11811024  0.0137518  -0.13929245]]\n",
      "M1:\n",
      " [[0.92030975 0.80056962 0.33149338 0.99407534 0.51932389]\n",
      " [0.86120916 0.17087143 0.82439382 0.85553499 0.07730596]\n",
      " [0.18907138 0.32621205 0.56782819 0.8273981  0.19208442]\n",
      " [0.17077171 0.52267145 0.95606866 0.24946096 0.60204615]\n",
      " [0.01120064 0.28368418 0.92897401 0.36378287 0.33853958]] \n",
      "M1_inv:\n",
      " [[ -0.12954459   1.21778392  -0.63154503   1.23787397  -1.92241527]\n",
      " [ 24.97464291  -9.51970207 -37.5794721  -49.81547354  73.774671  ]\n",
      " [  4.56917388  -1.27457079  -8.16110533 -10.21504699  16.07847937]\n",
      " [ -6.90762839   2.25858934  12.33179893  13.56228724 -21.03498569]\n",
      " [-26.03898504   9.00738389  40.65442816  55.15981985 -80.31999349]]\n"
     ]
    }
   ],
   "source": [
    "M = np.random.randint(10, size=(5,5))\n",
    "M1 = np.random.random((5,5))\n",
    "M_inv = lg.inv(M)\n",
    "M1_inv = lg.inv(M1)\n",
    "print('M:\\n',M,'\\nM_inv:\\n',M_inv)\n",
    "print('M1:\\n',M1,'\\nM1_inv:\\n',M1_inv)"
   ]
  },
  {
   "cell_type": "markdown",
   "metadata": {},
   "source": [
    "#### transformations "
   ]
  },
  {
   "cell_type": "code",
   "execution_count": 5,
   "metadata": {},
   "outputs": [],
   "source": [
    "# Apply A tranformtion(matrix) to the vector 'vector' and 'vector1'\n",
    "A_matrix = np.array([[3,0],[4,5]])\n",
    "vector = np.array([1,0])\n",
    "vector1 = np.array([0,1])"
   ]
  },
  {
   "cell_type": "code",
   "execution_count": 6,
   "metadata": {},
   "outputs": [],
   "source": [
    "# Apply A tranformtion(matrix) to the vector 'vector' and 'vector1'\n",
    "vector_new = A_matrix @ vector\n",
    "vector1_new = A_matrix @ vector1"
   ]
  },
  {
   "cell_type": "code",
   "execution_count": 7,
   "metadata": {},
   "outputs": [
    {
     "name": "stdout",
     "output_type": "stream",
     "text": [
      "Vectors:\n",
      " [[ 1  0]\n",
      " [ 0  1]\n",
      " [-1  0]\n",
      " [ 0 -1]]\n",
      "After multiplying with A-matrix:\n",
      " [[ 3  4]\n",
      " [ 0  5]\n",
      " [-3 -4]\n",
      " [ 0 -5]]\n"
     ]
    }
   ],
   "source": [
    "# Apply A tranformtion(matrix) to the vectors\n",
    "vector_list = np.array([[1,0],[0,1],[-1,0],[0,-1]])\n",
    "new_vector_list = list()\n",
    "for i in range(len(vector_list)):\n",
    "    new_vector_list.append(A_matrix @ vector_list[i])\n",
    "\n",
    "new_vector_list = np.array(new_vector_list)\n",
    "\n",
    "print('Vectors:\\n',vector_list)\n",
    "print('After multiplying with A-matrix:\\n',new_vector_list)"
   ]
  },
  {
   "cell_type": "code",
   "execution_count": 8,
   "metadata": {},
   "outputs": [
    {
     "data": {
      "image/png": "[encoded data removed]",
      "text/plain": [
       "<Figure size 432x288 with 1 Axes>"
      ]
     },
     "metadata": {
      "needs_background": "light"
     },
     "output_type": "display_data"
    }
   ],
   "source": [
    "# plot original vectors and plot after mulitplying with A matrix\n",
    "fig, ax = plt.subplots()\n",
    "ax.scatter([[i[0] for i in vector_list]], [i[1] for i in vector_list], zorder=2, label='vectors')\n",
    "ax.scatter([[i[0] for i in new_vector_list]], [i[1] for i in new_vector_list], label='new vectors')\n",
    "plt.grid()\n",
    "plt.legend()\n",
    "plt.show()\n",
    "fig.tight_layout()\n"
   ]
  },
  {
   "cell_type": "markdown",
   "metadata": {},
   "source": [
    "## Singular Value Decomposition(SVD)"
   ]
  },
  {
   "cell_type": "markdown",
   "metadata": {},
   "source": [
    "<img src='SVD.jpg' width=\"300\" height=\"300\">"
   ]
  },
  {
   "cell_type": "markdown",
   "metadata": {},
   "source": [
    "## SVD for dimentionality reduction\n"
   ]
  },
  {
   "cell_type": "markdown",
   "metadata": {},
   "source": [
    "<img src='svd_matrices.jpg' width=\"400\" height=\"400\">"
   ]
  },
  {
   "cell_type": "markdown",
   "metadata": {},
   "source": [
    "### Example: Image compression "
   ]
  },
  {
   "cell_type": "code",
   "execution_count": 9,
   "metadata": {},
   "outputs": [],
   "source": [
    "from numpy.linalg import svd"
   ]
  },
  {
   "cell_type": "code",
   "execution_count": 10,
   "metadata": {},
   "outputs": [],
   "source": [
    "# let's get SVD for a given matrix\n",
    "arr = np.array([[0,0,1,1,0,0],\n",
    "                [0,1,1,1,1,0],\n",
    "                [1,1,1,1,1,1],\n",
    "                [1,1,1,1,1,1],\n",
    "                [0,1,1,1,1,0],\n",
    "                [0,0,1,1,0,0]\n",
    "                ])"
   ]
  },
  {
   "cell_type": "code",
   "execution_count": 11,
   "metadata": {},
   "outputs": [
    {
     "data": {
      "text/plain": [
       "<matplotlib.image.AxesImage at 0x23f734034c8>"
      ]
     },
     "execution_count": 11,
     "metadata": {},
     "output_type": "execute_result"
    },
    {
     "data": {
      "image/png": "[encoded data removed]",
      "text/plain": [
       "<Figure size 432x288 with 1 Axes>"
      ]
     },
     "metadata": {
      "needs_background": "light"
     },
     "output_type": "display_data"
    }
   ],
   "source": [
    "# plot of the given matrix\n",
    "plt.imshow(1-arr, cmap='gray')"
   ]
  },
  {
   "cell_type": "code",
   "execution_count": 12,
   "metadata": {},
   "outputs": [
    {
     "name": "stdout",
     "output_type": "stream",
     "text": [
      "arr (6, 6) \n",
      " [[0 0 1 1 0 0]\n",
      " [0 1 1 1 1 0]\n",
      " [1 1 1 1 1 1]\n",
      " [1 1 1 1 1 1]\n",
      " [0 1 1 1 1 0]\n",
      " [0 0 1 1 0 0]] \n",
      "= \n",
      "U (6, 6) \n",
      " [[-0.23 -0.52  0.42  0.66 -0.12 -0.23]\n",
      " [-0.42 -0.23 -0.52 -0.21  0.15 -0.66]\n",
      " [-0.52  0.42  0.23  0.16  0.68  0.1 ]\n",
      " [-0.52  0.42  0.23 -0.16 -0.68 -0.1 ]\n",
      " [-0.42 -0.23 -0.52  0.21 -0.15  0.66]\n",
      " [-0.23 -0.52  0.42 -0.66  0.12  0.23]] \n",
      "*\n",
      "Sigma (6,) \n",
      " [[4.49 0.   0.   0.   0.   0.  ]\n",
      " [0.   1.6  0.   0.   0.   0.  ]\n",
      " [0.   0.   1.11 0.   0.   0.  ]\n",
      " [0.   0.   0.   0.   0.   0.  ]\n",
      " [0.   0.   0.   0.   0.   0.  ]\n",
      " [0.   0.   0.   0.   0.   0.  ]]\n",
      "\n",
      "*\n",
      "V_transpose (6, 6) \n",
      " [[-0.23 -0.42 -0.52 -0.52 -0.42 -0.23]\n",
      " [ 0.52  0.23 -0.42 -0.42  0.23  0.52]\n",
      " [ 0.42 -0.52  0.23  0.23 -0.52  0.42]\n",
      " [ 0.7  -0.09  0.04 -0.04  0.09 -0.7 ]\n",
      " [ 0.1   0.7  -0.02  0.02 -0.7  -0.1 ]\n",
      " [ 0.04 -0.03 -0.71  0.71  0.03 -0.04]]\n"
     ]
    }
   ],
   "source": [
    "# Singualr Value Decomposition \n",
    "U, Sigma, V_transpose = svd(arr)\n",
    "print('arr',arr.shape,'\\n',arr, '\\n= \\nU', U.shape,'\\n',np.round(U,2),'\\n*\\nSigma', Sigma.shape,'\\n',np.round(np.diag(Sigma),2))\n",
    "print('\\n*\\nV_transpose',V_transpose.shape,'\\n',np.round(V_transpose,2) )"
   ]
  },
  {
   "cell_type": "markdown",
   "metadata": {},
   "source": [
    "#### Let's take outer product of U, Sigma and V_transpose"
   ]
  },
  {
   "cell_type": "code",
   "execution_count": 13,
   "metadata": {},
   "outputs": [
    {
     "data": {
      "image/png": "[encoded data removed]",
      "text/plain": [
       "<Figure size 2592x432 with 6 Axes>"
      ]
     },
     "metadata": {
      "needs_background": "light"
     },
     "output_type": "display_data"
    }
   ],
   "source": [
    "# let's take first column of the U, first element in the diagonal of Sigma and first row of V_transpose \n",
    "# now take outer product of  U_col1, Sigma1 and Vt_row1\n",
    "# repeat same for others \n",
    "images = []\n",
    "for i in range(len(arr)):\n",
    "    images.append(Sigma[i]*np.outer(U[:,i], V_transpose[i]))\n",
    "\n",
    "#plot all images \n",
    "fig, axes = plt.subplots(figsize=(len(arr)*len(arr), len(arr)), nrows=1, ncols= len(arr))\n",
    "for num, ax in zip(range(len(arr)), axes):\n",
    "    ax.imshow(1-images[num], cmap='gray', vmin=0, vmax=1)\n",
    "    ax.set_title(np.round(Sigma[num], 2), fontsize=50)\n",
    "    "
   ]
  },
  {
   "cell_type": "markdown",
   "metadata": {},
   "source": [
    "#### Let's add images one by one "
   ]
  },
  {
   "cell_type": "code",
   "execution_count": 14,
   "metadata": {},
   "outputs": [
    {
     "data": {
      "image/png": "[encoded data removed]",
      "text/plain": [
       "<Figure size 2592x432 with 6 Axes>"
      ]
     },
     "metadata": {
      "needs_background": "light"
     },
     "output_type": "display_data"
    }
   ],
   "source": [
    "# let's add these together \n",
    "combined_images = []\n",
    "for i in range(len(arr)):\n",
    "    image = sum(images[:i+1])\n",
    "    combined_images.append(image)\n",
    "\n",
    "# plot combining one by one \n",
    "#plot all images \n",
    "fig, axes = plt.subplots(figsize=(len(arr)*len(arr), len(arr)), nrows=1, ncols= len(arr))\n",
    "for num, ax in zip(range(len(arr)), axes):\n",
    "    ax.imshow(1-combined_images[num], cmap='gray', vmin=0, vmax=1)\n",
    "    ax.set_title(np.round(Sigma[num], 2), fontsize=50)"
   ]
  },
  {
   "cell_type": "code",
   "execution_count": null,
   "metadata": {},
   "outputs": [],
   "source": []
  }
 ],
 "metadata": {
  "kernelspec": {
   "display_name": "Python 3",
   "language": "python",
   "name": "python3"
  },
  "language_info": {
   "codemirror_mode": {
    "name": "ipython",
    "version": 3
   },
   "file_extension": ".py",
   "mimetype": "text/x-python",
   "name": "python",
   "nbconvert_exporter": "python",
   "pygments_lexer": "ipython3",
   "version": "3.7.7"
  }
 },
 "nbformat": 4,
 "nbformat_minor": 4
}
